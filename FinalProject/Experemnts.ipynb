{
 "cells": [
  {
   "cell_type": "code",
   "execution_count": 1,
   "metadata": {
    "pycharm": {
     "name": "#%%\n"
    }
   },
   "outputs": [],
   "source": [
    "import time\n",
    "\n",
    "import numpy as np\n",
    "import pandas as pd\n",
    "\n",
    "import torch\n",
    "\n",
    "import matplotlib.pyplot as plt"
   ]
  },
  {
   "cell_type": "code",
   "execution_count": 2,
   "metadata": {
    "pycharm": {
     "name": "#%%\n"
    }
   },
   "outputs": [],
   "source": [
    "from CpuOptimzer import Momentum, RMSprop, Adam\n",
    "\n",
    "from GpuOptimizer import GPUMomentum, GPURMSprop, GPUAdam"
   ]
  },
  {
   "cell_type": "code",
   "execution_count": 3,
   "metadata": {
    "pycharm": {
     "name": "#%%\n"
    }
   },
   "outputs": [],
   "source": [
    "# Генерация синтетических данных\n",
    "def generate_data(n_samples, n_features):\n",
    "    np.random.seed(0)\n",
    "    X = torch.randn(n_samples, n_features)\n",
    "    w_true = torch.randn(n_features)\n",
    "    y = torch.matmul(X, w_true) + torch.randn(n_samples)\n",
    "    return X, y"
   ]
  },
  {
   "cell_type": "code",
   "execution_count": null,
   "outputs": [],
   "source": [
    "dims = [(1000, 20), (10_000, 200), (100_000, 2000), (100_000, 20_000)]\n",
    "\n",
    "results_adam = []\n",
    "results_momentum = []\n",
    "results_rmsprop = []\n",
    "\n",
    "results_adam_gpu = []\n",
    "results_momentum_gpu = []\n",
    "results_rmsprop_gpu = []\n",
    "\n",
    "for n_samples_train, n_features_train in dims:\n",
    "    print(n_samples_train, n_features_train)\n",
    "\n",
    "    # Здесь должен быть вызов функции run_experiments, и результаты должны быть сохранены в соответствующих переменных\n",
    "    #\n",
    "    adam_optimizer, momentum_optimizer, rmsprop_optimizer, adam_optimizer_gpu, momentum_optimizer_gpu, rmsprop_optimizer_gpu = run_experiments(n_samples_train, n_features_train)\n",
    "\n",
    "    results_adam.append(adam_optimizer)\n",
    "    results_momentum.append(momentum_optimizer)\n",
    "    results_rmsprop.append(rmsprop_optimizer)\n",
    "\n",
    "    results_adam_gpu.append(adam_optimizer_gpu)\n",
    "    results_momentum_gpu.append(momentum_optimizer_gpu)\n",
    "    results_rmsprop_gpu.append(rmsprop_optimizer_gpu)"
   ],
   "metadata": {
    "collapsed": false,
    "pycharm": {
     "name": "#%%\n"
    }
   }
  },
  {
   "cell_type": "code",
   "execution_count": null,
   "outputs": [],
   "source": [
    "# Визуализация результатов\n",
    "plt.figure(figsize=(10, 6))\n",
    "plt.plot(range(len(dims)), results_adam_gpu, label='Adam_gpu', marker='o')\n",
    "plt.plot(range(len(dims)), results_momentum_gpu, label='Momentum_gpu', marker='o')\n",
    "plt.plot(range(len(dims)), results_rmsprop_gpu, label='RMSprop_gpu', marker='o')\n",
    "\n",
    "plt.plot(range(len(dims)), results_adam, label='Adam', marker='o')\n",
    "plt.plot(range(len(dims)), results_momentum, label='Momentum', marker='o')\n",
    "plt.plot(range(len(dims)), results_rmsprop, label='RMSprop', marker='o')\n",
    "\n",
    "\n",
    "plt.xticks(range(len(dims)),\n",
    "           [f\"{n_features} features\" for _, n_features in dims])\n",
    "plt.xlabel('Features')\n",
    "plt.ylabel('Seconds')\n",
    "plt.title('Сalculation time for each method')\n",
    "plt.legend()\n",
    "plt.grid(True)\n",
    "plt.show()"
   ],
   "metadata": {
    "collapsed": false,
    "pycharm": {
     "name": "#%%\n"
    }
   }
  },
  {
   "cell_type": "code",
   "execution_count": null,
   "outputs": [],
   "source": [],
   "metadata": {
    "collapsed": false,
    "pycharm": {
     "name": "#%%\n"
    }
   }
  }
 ],
 "metadata": {
  "kernelspec": {
   "display_name": "Python 3 (ipykernel)",
   "language": "python",
   "name": "python3"
  },
  "language_info": {
   "codemirror_mode": {
    "name": "ipython",
    "version": 3
   },
   "file_extension": ".py",
   "mimetype": "text/x-python",
   "name": "python",
   "nbconvert_exporter": "python",
   "pygments_lexer": "ipython3",
   "version": "3.12.2"
  }
 },
 "nbformat": 4,
 "nbformat_minor": 1
}