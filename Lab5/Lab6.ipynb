{
 "cells": [
  {
   "cell_type": "code",
   "execution_count": 1,
   "metadata": {
    "pycharm": {
     "name": "#%%\n"
    },
    "scrolled": true
   },
   "outputs": [],
   "source": [
    "import concurrent.futures\n",
    "import threading\n",
    "import multiprocessing"
   ]
  },
  {
   "cell_type": "markdown",
   "metadata": {},
   "source": [
    "### Задание 6.1\n"
   ]
  },
  {
   "cell_type": "code",
   "execution_count": 2,
   "metadata": {},
   "outputs": [],
   "source": [
    "def calc_square(number, result):\n",
    "    \"\"\"\n",
    "    Функция для вычисления квадрата числа и сохранения его в общий результат.\n",
    "    \"\"\"\n",
    "    result.put(number * number)"
   ]
  },
  {
   "cell_type": "code",
   "execution_count": 3,
   "metadata": {},
   "outputs": [
    {
     "name": "stdout",
     "output_type": "stream",
     "text": [
      "1\n",
      "4\n",
      "9\n",
      "16\n",
      "25\n"
     ]
    }
   ],
   "source": [
    "if __name__ == \"__main__\":\n",
    "    # Создаем объект Queue для передачи результатов между процессами\n",
    "    result_queue = multiprocessing.Queue()\n",
    "\n",
    "    # Создаем список чисел\n",
    "    numbers = [1, 2, 3, 4, 5]\n",
    "\n",
    "    # Создаем список для хранения процессов\n",
    "    processes = []\n",
    "\n",
    "    # Создаем процессы для вычисления квадратов чисел\n",
    "    for number in numbers:\n",
    "        process = multiprocessing.Process(target=calc_square, args=(number, result_queue))\n",
    "        processes.append(process)\n",
    "        process.start()\n",
    "\n",
    "    # Ждем завершения всех процессов\n",
    "    for process in processes:\n",
    "        process.join()\n",
    "\n",
    "    # Получаем результаты из очереди и выводим их\n",
    "    while not result_queue.empty():\n",
    "        print(result_queue.get())"
   ]
  },
  {
   "cell_type": "markdown",
   "metadata": {},
   "source": [
    "#### Основные шаги программы:\n",
    "\n",
    "1. **Определение функции `calc_square`**:\n",
    "   - Эта функция принимает два аргумента: `number` (число, для которого нужно вычислить квадрат) и `result` (очередь для сохранения результата). Внутри функции происходит вычисление квадрата числа (`number * number`) и результат помещается в очередь `result`.\n",
    "\n",
    "2. **Использование многопроцессорности**:\n",
    "   - В блоке `if __name__ == \"__main__\":` создается объект очереди (`result_queue`) для передачи результатов между процессами.\n",
    "   - Затем создается список чисел `numbers`, для которых нужно вычислить квадрат.\n",
    "   - Создается пустой список `processes` для хранения объектов процессов.\n",
    "   - Для каждого числа из списка `numbers` создается процесс, вызывая функцию `calc_square` с этим числом и объектом `Queue`. Созданные процессы добавляются в список `processes` и запускаются.\n",
    "\n",
    "3. **Ожидание завершения процессов и вывод результатов**:\n",
    "   - После запуска всех процессов выполняется цикл `for`, в котором вызывается метод `join()` для каждого процесса. Это блокирует выполнение программы до тех пор, пока соответствующий процесс не завершится.\n",
    "   - Затем в цикле `while` извлекаются результаты из очереди `result_queue` и выводятся на экран с помощью функции `print()`."
   ]
  },
  {
   "cell_type": "code",
   "execution_count": 4,
   "metadata": {},
   "outputs": [],
   "source": [
    "def calculate_square_sum(start, end, result):\n",
    "    \"\"\"\n",
    "    Функция для вычисления суммы квадратов чисел в заданном диапазоне и сохранения результата.\n",
    "    \"\"\"\n",
    "    square_sum = sum(x * x for x in range(start, end + 1))\n",
    "    result.append(square_sum)"
   ]
  },
  {
   "cell_type": "code",
   "execution_count": 5,
   "metadata": {},
   "outputs": [
    {
     "name": "stdout",
     "output_type": "stream",
     "text": [
      "Общая сумма квадратов чисел от 1 до 100000 : 333338333350000\n"
     ]
    }
   ],
   "source": [
    "if __name__ == \"__main__\":\n",
    "    # Задаем параметры для вычислений\n",
    "    N = 100000\n",
    "    num_threads = 4\n",
    "\n",
    "    # Вычисляем интервал для каждого потока\n",
    "    interval = N // num_threads\n",
    "\n",
    "    # Создаем список для хранения результатов\n",
    "    results = []\n",
    "\n",
    "    # Создаем список для хранения потоков\n",
    "    threads = []\n",
    "\n",
    "    # Создаем и запускаем потоки\n",
    "    for i in range(num_threads):\n",
    "        start = i * interval + 1\n",
    "        end = (i + 1) * interval if i < num_threads - 1 else N\n",
    "        thread = threading.Thread(target=calculate_square_sum, args=(start, end, results))\n",
    "        threads.append(thread)\n",
    "        thread.start()\n",
    "\n",
    "    # Ждем завершения всех потоков\n",
    "    for thread in threads:\n",
    "        thread.join()\n",
    "\n",
    "    # Вычисляем общую сумму квадратов\n",
    "    total_square_sum = sum(results)\n",
    "    print(\"Общая сумма квадратов чисел от 1 до\", N, \":\", total_square_sum)"
   ]
  },
  {
   "cell_type": "markdown",
   "metadata": {},
   "source": [
    "#### Основные шаги программы:\n",
    "\n",
    "1. **Разделение диапазона на потоки и создание потоков**:\n",
    "   - Задаются параметры для вычислений: `N` - число, до которого нужно вычислить сумму квадратов, и `num_threads` - количество потоков, которые будут использоваться для вычислений.\n",
    "   - Вычисляется интервал для каждого потока путем деления общего диапазона `N` на количество потоков `num_threads`.\n",
    "   - Создается пустой список `results` для хранения результатов вычислений.\n",
    "   - Создается пустой список `threads` для хранения объектов потоков.\n",
    "   - В цикле создаются и запускаются потоки для вычисления суммы квадратов в своем интервале. Каждый поток получает свой диапазон значений и ссылку на список `results` для сохранения результата.\n",
    "\n",
    "2. **Ожидание завершения потоков и вычисление общей суммы**:\n",
    "   - После запуска всех потоков выполняется цикл, в котором вызывается метод `join()` для каждого потока. Это блокирует выполнение программы до тех пор, пока все потоки не завершат свою работу.\n",
    "   - После завершения всех потоков суммируются результаты, содержащиеся в списке `results`, для получения общей суммы квадратов чисел.\n",
    "\n",
    "3. **Вывод общей суммы**:\n",
    "   - Полученная общая сумма квадратов чисел выводится на экран с помощью функции `print()`."
   ]
  },
  {
   "cell_type": "code",
   "execution_count": null,
   "metadata": {},
   "outputs": [],
   "source": []
  },
  {
   "cell_type": "markdown",
   "metadata": {},
   "source": [
    "### Задание 6.2"
   ]
  },
  {
   "cell_type": "code",
   "execution_count": 6,
   "metadata": {},
   "outputs": [],
   "source": [
    "def multiply_row(row, matrix2):\n",
    "    \"\"\"\n",
    "    Функция для умножения строки матрицы на другую матрицу.\n",
    "    \"\"\"\n",
    "    result_row = []\n",
    "    for j in range(len(matrix2[0])):\n",
    "        result_element = sum(row[k] * matrix2[k][j] for k in range(len(row)))\n",
    "        result_row.append(result_element)\n",
    "    return result_row\n",
    "\n",
    "def multiply_matrices(matrix1, matrix2):\n",
    "    \"\"\"\n",
    "    Функция для умножения двух матриц.\n",
    "    \"\"\"\n",
    "    with concurrent.futures.ThreadPoolExecutor() as executor:\n",
    "        # Умножаем каждую строку матрицы matrix1 на matrix2 параллельно\n",
    "        results = [executor.submit(multiply_row, row, matrix2) for row in matrix1]\n",
    "\n",
    "        # Собираем результаты из Future объектов\n",
    "        multiplied_matrix = [result.result() for result in concurrent.futures.as_completed(results)]\n",
    "\n",
    "    return multiplied_matrix"
   ]
  },
  {
   "cell_type": "code",
   "execution_count": 7,
   "metadata": {},
   "outputs": [
    {
     "name": "stdout",
     "output_type": "stream",
     "text": [
      "Результат умножения матриц:\n",
      "[84, 69, 54]\n",
      "[30, 24, 18]\n",
      "[138, 114, 90]\n"
     ]
    }
   ],
   "source": [
    "if __name__ == \"__main__\":\n",
    "    # Примеры матриц\n",
    "    matrix1 = [\n",
    "        [1, 2, 3],\n",
    "        [4, 5, 6],\n",
    "        [7, 8, 9]\n",
    "    ]\n",
    "\n",
    "    matrix2 = [\n",
    "        [9, 8, 7],\n",
    "        [6, 5, 4],\n",
    "        [3, 2, 1]\n",
    "    ]\n",
    "\n",
    "    result_matrix = multiply_matrices(matrix1, matrix2)\n",
    "    print(\"Результат умножения матриц:\")\n",
    "    for row in result_matrix:\n",
    "        print(row)"
   ]
  },
  {
   "cell_type": "markdown",
   "metadata": {
    "pycharm": {
     "name": "#%% md\n"
    }
   },
   "source": [
    "#### Основные шаги программы:\n",
    "\n",
    "1. Определение функции `multiply_row(row, matrix2)`, которая принимает строку первой матрицы и вторую матрицу. Внутри функции происходит вычисление элементов результирующей строки, где каждый элемент получается путем суммирования произведений соответствующих элементов строки первой матрицы и столбца второй матрицы.\n",
    "\n",
    "2. Определение функции `multiply_matrices(matrix1, matrix2)`, которая принимает две матрицы. Внутри этой функции создается `ThreadPoolExecutor`, который автоматически управляет потоками. Каждая строка первой матрицы умножается на вторую матрицу параллельно, и результаты сохраняются в списке `results`. После завершения всех вычислений результаты собираются из объектов `Future`, возвращаемых `submit`, и формируется результирующая матрица `multiplied_matrix`.\n",
    "\n",
    "3. В блоке `if __name__ == \"__main__\":` задаются примеры матриц `matrix1` и `matrix2`, и вызывается функция `multiply_matrices` для их умножения. Результаты выводятся на экран."
   ]
  },
  {
   "cell_type": "code",
   "execution_count": null,
   "metadata": {},
   "outputs": [],
   "source": []
  }
 ],
 "metadata": {
  "kernelspec": {
   "display_name": "Python 3 (ipykernel)",
   "language": "python",
   "name": "python3"
  },
  "language_info": {
   "codemirror_mode": {
    "name": "ipython",
    "version": 3
   },
   "file_extension": ".py",
   "mimetype": "text/x-python",
   "name": "python",
   "nbconvert_exporter": "python",
   "pygments_lexer": "ipython3",
   "version": "3.10.13"
  }
 },
 "nbformat": 4,
 "nbformat_minor": 1
}
