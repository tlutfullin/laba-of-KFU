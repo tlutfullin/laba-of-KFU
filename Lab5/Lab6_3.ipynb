{
 "cells": [
  {
   "cell_type": "code",
   "execution_count": 3,
   "id": "dee9ea11",
   "metadata": {
    "scrolled": true,
    "pycharm": {
     "name": "#%%\n"
    }
   },
   "outputs": [],
   "source": [
    "import numpy as np\n",
    "import pycuda.gpuarray as gpuarray\n",
    "import pycuda.driver as cuda\n",
    "import pycuda.autoinit\n",
    "import scikits.cuda.linalg as linalg"
   ]
  },
  {
   "cell_type": "markdown",
   "id": "6efe80ac",
   "metadata": {
    "pycharm": {
     "name": "#%% md\n"
    }
   },
   "source": [
    "**Ссылка на репозитории:** https://github.com/tlutfullin/laba-of-KFU/tree/master"
   ]
  },
  {
   "cell_type": "markdown",
   "id": "e23fdd27",
   "metadata": {
    "pycharm": {
     "name": "#%% md\n"
    }
   },
   "source": [
    "**Ссылка на Google:** https://drive.google.com/file/d/1ld-qBzxG_jZfpt0EmneDVQM6hUiZGF_y/view?usp=sharing"
   ]
  },
  {
   "cell_type": "markdown",
   "id": "fa822f0f",
   "metadata": {
    "pycharm": {
     "name": "#%% md\n"
    }
   },
   "source": [
    "### Задание 6.3"
   ]
  },
  {
   "cell_type": "code",
   "execution_count": 2,
   "id": "7b8dac28",
   "metadata": {
    "pycharm": {
     "name": "#%%\n"
    }
   },
   "outputs": [
    {
     "name": "stdout",
     "output_type": "stream",
     "text": [
      "Result:\n",
      " [[-2.4623737  -2.4321268  -4.1838355  -1.5224843   2.2017808   5.1225905\n",
      "   3.7039914   1.7236549   1.6951516  -0.15499121]\n",
      " [-3.798254   -2.8557758  -2.7306666  -7.617652    1.5119455  -2.0811796\n",
      "   5.4298835  -3.982554    0.59766906 -3.2070074 ]\n",
      " [-2.1535246  -0.09958403  0.19799748 -1.0998994   0.05225287  5.565658\n",
      "   0.5865426   2.035515    0.9437718   2.9120991 ]\n",
      " [-0.85027707 -3.0073714  -5.2816277   1.9530492  -2.263606    0.8036692\n",
      "   3.599049   -1.7136586   0.8026637  -0.10677274]\n",
      " [ 0.6975211  -1.8374772   1.6599274  -0.14085448 -0.93417454 -0.69062054\n",
      "  -0.01793259 -3.5207586  -0.1850147  -3.2616792 ]\n",
      " [-2.8167152   1.66394     1.055463   -5.4588027   1.6172762  -0.9100143\n",
      "  -3.1743584   1.2280887  -0.732248   -1.7397333 ]\n",
      " [-3.3467894  -5.3928094   0.24262023 -0.3397294   4.0632086   4.1978445\n",
      "   4.373118   -4.2547727   0.12451661 -2.6581135 ]\n",
      " [ 4.319399    3.6841204   3.6595867  -2.1144512  -0.9246186  -6.9273095\n",
      "  -0.3286148  -1.8267219  -0.02897027 -0.5269534 ]\n",
      " [-0.16066462  0.79170007 -3.6618695   0.11002097 -1.6160955   2.0135007\n",
      "   3.1262312  -0.03806169  1.6805079   1.1128027 ]\n",
      " [ 2.3525999   1.4914044   0.9707738   1.2409894  -1.2550629  -2.7703016\n",
      "  -4.169877    1.4044485  -0.06935689  3.2782147 ]]\n"
     ]
    }
   ],
   "source": [
    "try:\n",
    "    linalg.init()  # Инициализация библиотеки линейной алгебры для вычислений на GPU.\n",
    "except cuda.LogicError as e:\n",
    "    print(f\"CUDA error during initialization: {e}\")\n",
    "    exit()\n",
    "\n",
    "def gpu_matrix_multiply(A, B):\n",
    "    \"\"\"\n",
    "    Умножение матриц A и B на графическом процессоре (GPU).\n",
    "    \"\"\"\n",
    "    try:\n",
    "        A_gpu = gpuarray.to_gpu(A)  # Копирование матрицы A на GPU.\n",
    "        B_gpu = gpuarray.to_gpu(B)  # Копирование матрицы B на GPU.\n",
    "        result_gpu = linalg.dot(A_gpu, B_gpu)  # Выполнение умножения матриц на GPU.\n",
    "        return result_gpu.get()  # Получение результата умножения с GPU на CPU.\n",
    "    except cuda.LogicError as e:\n",
    "        print(f\"CUDA error during matrix multiplication: {e}\")  # В случае ошибки CUDA выводим сообщение об ошибке.\n",
    "        return None\n",
    "\n",
    "def main():\n",
    "    A = np.random.randn(10, 10).astype(np.float32)  # Создание случайной матрицы A размером 10x10.\n",
    "    B = np.random.randn(10, 10).astype(np.float32)  # Создание случайной матрицы B размером 10x10.\n",
    "\n",
    "    result = gpu_matrix_multiply(A, B)  # Вызов функции умножения матриц на GPU.\n",
    "    if result is not None:\n",
    "        print(\"Result:\\n\", result)  # Если результат не равен None, выводим результат умножения.\n",
    "    else:\n",
    "        print(\"Matrix multiplication failed.\")  # В случае, если результат None, выводим сообщение о неудаче умножения.\n",
    "\n",
    "if __name__ == \"__main__\":\n",
    "    main()  # Вызов функции main() при запуске скрипта.\n"
   ]
  },
  {
   "cell_type": "markdown",
   "id": "1adc84f1",
   "metadata": {
    "pycharm": {
     "name": "#%% md\n"
    }
   },
   "source": [
    "#### Основные шаги программы:\n",
    "\n",
    "1. **Инициализация библиотеки линейной алгебры для работы на GPU**:\n",
    "   - Программа пытается инициализировать библиотеку линейной алгебры для выполнения вычислений на графическом процессоре (GPU) с помощью функции `linalg.init()`. В случае возникновения ошибки `cuda.LogicError`, программа выводит сообщение об ошибке и завершает выполнение.\n",
    "\n",
    "2. **Умножение матриц на GPU**:\n",
    "   - Определяется функция `gpu_matrix_multiply`, которая принимает две матрицы `A` и `B`. Внутри функции выполняются следующие шаги:\n",
    "     - Матрицы `A` и `B` копируются на GPU с помощью функции `gpuarray.to_gpu()`.\n",
    "     - Выполняется умножение матриц `A` и `B` на GPU с помощью функции `linalg.dot()`.\n",
    "     - Результат умножения получается с GPU с помощью метода `get()` и возвращается.\n",
    "     - Если в процессе умножения возникает ошибка `cuda.LogicError`, выводится сообщение об ошибке.\n",
    "\n",
    "3. **Выполнение основной программы**:\n",
    "   - В функции `main()` создаются две случайные матрицы `A` и `B` размером 10x10.\n",
    "   - Вызывается функция `gpu_matrix_multiply()` для умножения матриц на GPU.\n",
    "   - Если результат умножения не равен `None`, программа выводит результат умножения. В противном случае выводится сообщение о неудаче умножения.\n",
    "   - Функция `main()` вызывается при запуске скрипта."
   ]
  },
  {
   "cell_type": "code",
   "execution_count": null,
   "id": "bb0eae43",
   "metadata": {
    "pycharm": {
     "name": "#%%\n"
    }
   },
   "outputs": [],
   "source": []
  }
 ],
 "metadata": {
  "kernelspec": {
   "display_name": "lab6",
   "language": "python",
   "name": "lab6"
  },
  "language_info": {
   "codemirror_mode": {
    "name": "ipython",
    "version": 3
   },
   "file_extension": ".py",
   "mimetype": "text/x-python",
   "name": "python",
   "nbconvert_exporter": "python",
   "pygments_lexer": "ipython3",
   "version": "3.8.18"
  }
 },
 "nbformat": 4,
 "nbformat_minor": 5
}